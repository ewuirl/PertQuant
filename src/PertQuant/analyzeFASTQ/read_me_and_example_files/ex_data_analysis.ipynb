{
 "cells": [
  {
   "cell_type": "markdown",
   "metadata": {},
   "source": [
    "This notebook will walk through analyzing summed subsequence count data "
   ]
  },
  {
   "cell_type": "code",
   "execution_count": 1,
   "metadata": {},
   "outputs": [],
   "source": [
    "from pathlib import Path\n",
    "import scipy.optimize\n",
    "import matplotlib.pyplot as plt \n",
    "import numpy as np\n",
    "import os\n",
    "# For data preparation\n",
    "from PertQuant.simCRN.ml_nupack import gen_complement\n",
    "from PertQuant.analyzeFASTQ.sum_count_dat import get_count_settings\n",
    "from PertQuant.analyzeFASTQ.sum_count_dat import get_sum_settings\n",
    "from PertQuant.analyzeFASTQ.analyze_counts import make_x_fit_arr\n",
    "# For fitting\n",
    "from PertQuant.analyzeFASTQ.analyze_counts import power_func\n",
    "from PertQuant.analyzeFASTQ.analyze_counts import fit_func\n",
    "from PertQuant.analyzeFASTQ.analyze_counts import calc_sum\n",
    "from PertQuant.analyzeFASTQ.analyze_counts import sum_fit_func\n",
    "# For barcode plot labels\n",
    "from PertQuant.analyzeFASTQ.analyze_counts import autolabel\n",
    "# For time binned plots\n",
    "from PertQuant.analyzeFASTQ.analyze_counts import plot_time_binned_fits"
   ]
  },
  {
   "cell_type": "code",
   "execution_count": 2,
   "metadata": {},
   "outputs": [],
   "source": [
    "# For reading in binned data\n",
    "from PertQuant.analyzeFASTQ.analyze_counts import read_binned_counts\n",
    "# For fitting time binned data\n",
    "from PertQuant.analyzeFASTQ.analyze_counts import time_fit_arr\n",
    "# For fitting other binned data\n",
    "from PertQuant.analyzeFASTQ.analyze_counts import bin_fit_arr\n",
    "# For analyzing fitted binned data\n",
    "from PertQuant.analyzeFASTQ.analyze_counts import sum_binned_target_and_comp\n",
    "from PertQuant.analyzeFASTQ.analyze_counts import divide_binned_counts"
   ]
  },
  {
   "cell_type": "code",
   "execution_count": 3,
   "metadata": {},
   "outputs": [],
   "source": [
    "# For reading in non-binned data\n",
    "from PertQuant.analyzeFASTQ.analyze_counts import read_counts\n",
    "# For analyzing fitted non-binned data\n",
    "from PertQuant.analyzeFASTQ.analyze_counts import sum_target_and_comp\n",
    "from PertQuant.analyzeFASTQ.analyze_counts import divide_counts"
   ]
  },
  {
   "cell_type": "markdown",
   "metadata": {},
   "source": [
    "## Data analysis step overview\n",
    "(1) Reading in the data  \n",
    "(2) Fitting the data  \n",
    "(3) Summing the target and complement data  \n",
    "(4) Whatever else (calculating ratios, plots, etc)"
   ]
  },
  {
   "cell_type": "markdown",
   "metadata": {},
   "source": [
    "## 1.) Reading in the data"
   ]
  },
  {
   "cell_type": "markdown",
   "metadata": {},
   "source": [
    "### Get settings"
   ]
  },
  {
   "cell_type": "code",
   "execution_count": 4,
   "metadata": {},
   "outputs": [],
   "source": [
    "count_folder = os.getcwd() # This assumes the jupyter notebook is placed inside the count folder.\n",
    "count_folder_list = count_folder.split('/')\n",
    "count_folder_list.pop()\n",
    "count_settings_path = '/'.join(count_folder_list)+'/[count_settings.txt]' \n",
    "# replace count_settings.txt with the name of your settings file."
   ]
  },
  {
   "cell_type": "code",
   "execution_count": null,
   "metadata": {},
   "outputs": [],
   "source": [
    "n_targets, target_list, target_lengths, n_barcodes, min_len, handle_repeat_error, repeat_list, n_repeat = \\\n",
    "    get_count_settings(count_settings_path)"
   ]
  },
  {
   "cell_type": "markdown",
   "metadata": {},
   "source": [
    "### Get binned settings (optional)"
   ]
  },
  {
   "cell_type": "code",
   "execution_count": null,
   "metadata": {},
   "outputs": [],
   "source": [
    "# If the data is binned by time. Change the optional arguments if the data was binned otherwise.\n",
    "time_step, Pbin, Qbin = get_sum_settings(count_folder, has_time_step=True)\n",
    "tstep_arr = np.arange(0.0,24*60,time_step) # if run length is 24 hours\n",
    "num_bins = len(tstep_arr)"
   ]
  },
  {
   "cell_type": "markdown",
   "metadata": {},
   "source": [
    "### Prepare arrays for fitting"
   ]
  },
  {
   "cell_type": "code",
   "execution_count": null,
   "metadata": {},
   "outputs": [],
   "source": [
    "# Figure out the array length (number of columns)\n",
    "# Figure out how many subsequence lengths there are\n",
    "max_num_subseqs = seq_len - min_len + 1\n",
    "# Calculate the count array length\n",
    "array_len = int(max_num_subseqs * (max_num_subseqs+1)/2)"
   ]
  },
  {
   "cell_type": "code",
   "execution_count": null,
   "metadata": {},
   "outputs": [],
   "source": [
    "seq_len = len(target_list[0])\n",
    "x_array, x_fit = make_x_fit_arr(seq_len, min_len)"
   ]
  },
  {
   "cell_type": "markdown",
   "metadata": {},
   "source": [
    "### Get lists of the count files"
   ]
  },
  {
   "cell_type": "code",
   "execution_count": null,
   "metadata": {},
   "outputs": [],
   "source": [
    "# Get the names of target count files\n",
    "target_count_files = Path(count_folder).glob(\"*_[0-9]_counts.txt\")\n",
    "target_file_list = sorted([str(file) for file in target_count_files])\n",
    "# Get the names of target complement count files\n",
    "targetc_count_files = Path(count_folder).glob(\"*_[0-9]_comp_counts.txt\")\n",
    "targetc_file_list = sorted([str(file) for file in targetc_count_files])"
   ]
  },
  {
   "cell_type": "markdown",
   "metadata": {},
   "source": [
    "### Read in non-binned data"
   ]
  },
  {
   "cell_type": "code",
   "execution_count": null,
   "metadata": {},
   "outputs": [],
   "source": [
    "# Read in the summed subsequence counts\n",
    "target_file_arr_list = []\n",
    "targetc_file_arr_list = []\n",
    "for i in range(len(target_file_list)):\n",
    "    # Read in the target counts\n",
    "    target_arr = np.zeros(array_len)\n",
    "    read_counts(target_file_list[i], target_arr)\n",
    "    target_file_arr_list.append(target_arr)\n",
    "    # Read in the target complement counts\n",
    "    targetc_arr = np.zeros(array_len)\n",
    "    read_counts(targetc_file_list[i], targetc_arr)\n",
    "    targetc_file_arr_list.append(targetc_arr)"
   ]
  },
  {
   "cell_type": "markdown",
   "metadata": {},
   "source": [
    "### Read in binned data (optional)"
   ]
  },
  {
   "cell_type": "code",
   "execution_count": null,
   "metadata": {},
   "outputs": [],
   "source": [
    "# This example uses data binned by time. Replace tstep_arr with the appropriate bin array\n",
    "# Read in the summed subsequence counts\n",
    "target_file_arr_list = []\n",
    "targetc_file_arr_list = []\n",
    "for i in range(len(target_file_list)):\n",
    "    # Read in the target counts\n",
    "    target_arr = np.zeros((len(tstep_arr),array_len))\n",
    "    read_binned_counts(target_file_list[i], target_arr)\n",
    "    target_file_arr_list.append(target_arr)\n",
    "    # Read in the target complement counts\n",
    "    targetc_arr = np.zeros((len(tstep_arr),array_len))\n",
    "    read_binned_counts(targetc_file_list[i], targetc_arr)\n",
    "    targetc_file_arr_list.append(targetc_arr)"
   ]
  },
  {
   "cell_type": "markdown",
   "metadata": {},
   "source": [
    "## 2.) Fit the data"
   ]
  },
  {
   "cell_type": "markdown",
   "metadata": {},
   "source": [
    "### Power function fitting"
   ]
  },
  {
   "cell_type": "code",
   "execution_count": null,
   "metadata": {},
   "outputs": [],
   "source": [
    "# Run this function to fit the power function for non-binned data.\n",
    "fit_params, fit, pcov, perr = fit_func(power_func, x_array, target_counts_array)\n",
    "# target_counts_array is one of the arrays in target_file_arr_list"
   ]
  },
  {
   "cell_type": "markdown",
   "metadata": {},
   "source": [
    "### Power function fitting (binned)"
   ]
  },
  {
   "cell_type": "code",
   "execution_count": null,
   "metadata": {},
   "outputs": [],
   "source": [
    "# Run this function to fit the power function for time binned data.\n",
    "time_summed_counts_arr, params_arr, fit_list, pcov_list, perr_arr = time_fit_arr(target_bin_array, x_array, \\\n",
    "                                                                                 power_func, False, seq_len, \\\n",
    "                                                                                 min_len, array_len)\n",
    "# target_bin_array is one of the arrays in target_file_arr_list"
   ]
  },
  {
   "cell_type": "code",
   "execution_count": null,
   "metadata": {},
   "outputs": [],
   "source": [
    "# Run this function to fit the power function for other binned data.\n",
    "time_summed_counts_arr, params_arr, fit_list, pcov_list, perr_arr = bin_fit_arr(target_bin_array, x_array, \\\n",
    "                                                                                power_func, False, seq_len, min_len)\n",
    "# target_bin_array is one of the arrays in target_file_arr_list"
   ]
  },
  {
   "cell_type": "markdown",
   "metadata": {},
   "source": [
    "### Define the sum power function\n",
    "Locally define it, since it requires the global value seq_len"
   ]
  },
  {
   "cell_type": "code",
   "execution_count": 5,
   "metadata": {},
   "outputs": [],
   "source": [
    "def summed_power_func(x, S, p):\n",
    "    return S*(seq_len+1-x)*p ** x"
   ]
  },
  {
   "cell_type": "markdown",
   "metadata": {},
   "source": [
    "### Summed power function fitting"
   ]
  },
  {
   "cell_type": "code",
   "execution_count": null,
   "metadata": {},
   "outputs": [],
   "source": [
    "# Run this function to fit the summed power function for non-binned data.\n",
    "summed_counts_arr, fit_params, fit, pcov, perr = sum_fit_func(target_counts_array, x_fit, seq_len, min_len, \\\n",
    "                                                              summed_power_func)\n",
    "# target_counts_array is one of the arrays in target_file_arr_list"
   ]
  },
  {
   "cell_type": "markdown",
   "metadata": {},
   "source": [
    "### Summed power function fitting (binned)"
   ]
  },
  {
   "cell_type": "code",
   "execution_count": null,
   "metadata": {},
   "outputs": [],
   "source": [
    "# Run this function to fit the summed power function for time binned data.\n",
    "time_summed_counts_arr, params_arr, fit_list, pcov_list, perr_arr = time_fit_arr(target_bin_array, x_fit, \\\n",
    "                                                                                 summed_power_func, True, seq_len, \\\n",
    "                                                                                 min_len, array_len)\n",
    "# target_bin_array is one of the arrays in target_file_arr_list"
   ]
  },
  {
   "cell_type": "code",
   "execution_count": null,
   "metadata": {},
   "outputs": [],
   "source": [
    "# Run this function to fit other binned data.\n",
    "time_summed_counts_arr, params_arr, fit_list, pcov_list, perr_arr = bin_fit_arr(target_bin_array, x_fit, \\\n",
    "                                                                                summed_power_func, True, seq_len, \\\n",
    "                                                                                min_len)\n",
    "# target_bin_array is one of the arrays in target_file_arr_list"
   ]
  },
  {
   "cell_type": "markdown",
   "metadata": {},
   "source": [
    "## 3.) Sum the target and complement data"
   ]
  },
  {
   "cell_type": "markdown",
   "metadata": {},
   "source": [
    "### Sum non-binned data"
   ]
  },
  {
   "cell_type": "code",
   "execution_count": null,
   "metadata": {},
   "outputs": [],
   "source": [
    "tot_S, tot_S_err = sum_target_and_comp(target_params_arr, target_perr_arr, comp_params_arr, comp_perr_arr)"
   ]
  },
  {
   "cell_type": "markdown",
   "metadata": {},
   "source": [
    "### Sum binned data"
   ]
  },
  {
   "cell_type": "code",
   "execution_count": null,
   "metadata": {},
   "outputs": [],
   "source": [
    "tot_S_arr, tot_S_err_arr = sum_binned_target_and_comp(target_params_arr, target_perr_arr, comp_params_arr, \\\n",
    "                                                      comp_perr_arr)"
   ]
  },
  {
   "cell_type": "markdown",
   "metadata": {},
   "source": [
    "## 4.) Other things"
   ]
  },
  {
   "cell_type": "markdown",
   "metadata": {},
   "source": [
    "### Computing ratios"
   ]
  },
  {
   "cell_type": "code",
   "execution_count": null,
   "metadata": {},
   "outputs": [],
   "source": [
    "ratio, ratio_err = divide_counts(dividend_S, dividend_S_err, divisor_S, divisor_S_err)"
   ]
  },
  {
   "cell_type": "markdown",
   "metadata": {},
   "source": [
    "### Computing binned ratios"
   ]
  },
  {
   "cell_type": "code",
   "execution_count": null,
   "metadata": {},
   "outputs": [],
   "source": [
    "ratio_arr, ratio_err_arr = divide_binned_counts(dividend_S_arr, dividend_S_err_arr, divisor_S_arr, \\\n",
    "                                                divisor_S_err_arr)"
   ]
  },
  {
   "cell_type": "markdown",
   "metadata": {},
   "source": [
    "## Plots"
   ]
  },
  {
   "cell_type": "code",
   "execution_count": 6,
   "metadata": {},
   "outputs": [],
   "source": [
    "# Make a save folder for the plots\n",
    "fit_save_folder = f\"{count_folder}/fit plots\"\n",
    "if not os.path.exists(fit_save_folder):\n",
    "    os.makedirs(fit_save_folder)"
   ]
  },
  {
   "cell_type": "markdown",
   "metadata": {},
   "source": [
    "### Plotting non-binned power function fits"
   ]
  },
  {
   "cell_type": "code",
   "execution_count": null,
   "metadata": {},
   "outputs": [],
   "source": [
    "plt.rcParams.update({'font.size': 12})\n",
    "fig, ax = plt.subplots()\n",
    "ax.scatter(x_array, comp_counts, label=\"counts\", marker=\".\", color=\"k\") # I plot complements in black\n",
    "# ax.scatter(x_array, target_counts, label=\"counts\", marker=\".\", color=\"g\") # I plot targets in green\n",
    "ax.plot(x_array, fit_arr, label =\"fit: S = {:.0f} $\\pm$ {:.0f}, p = {:.2f} $\\pm$ {:.1e}\".\\\n",
    "        format(fit_params[0], perr[0], fit_params[1], perr[1]))\n",
    "ax.legend(bbox_to_anchor=(1.8, 0.6))\n",
    "fig.suptitle(\"Power Function Fit of Complement Subsequence Counts\")\n",
    "ax.set_xlabel(\"Length of Subsequence (max 25)\")\n",
    "ax.set_ylabel(\"Number of Matches\")\n",
    "ax.ticklabel_format(axis='y', style='sci', scilimits=(0,0))\n",
    "# ax.set_ylim(top=50000)\n",
    "ax.set_xticks(np.arange(min(x_fit), max(x_fit)+1, 5.0))\n",
    "# plt.savefig(count_file_path+\"/fastq_pass/yourname_fit.png\", bbox_inches='tight')"
   ]
  },
  {
   "cell_type": "markdown",
   "metadata": {},
   "source": [
    "### Plotting non-binned summed power function fits"
   ]
  },
  {
   "cell_type": "code",
   "execution_count": null,
   "metadata": {},
   "outputs": [],
   "source": [
    "plt.rcParams.update({'font.size': 12})\n",
    "fig, ax = plt.subplots()\n",
    "ax.scatter(x_array, comp_counts, label=\"counts\", marker=\".\", color=\"k\") # I plot complements in black\n",
    "ax.scatter(x_fit, summed_counts_arr, label=\"counts\", marker=\".\", color=\"g\") # I plot targets in green\n",
    "ax.plot(x_fit, summed_fit_arr, label =\"fit: S = {:.0f} $\\pm$ {:.0f}, p = {:.2f} $\\pm$ {:.1e}\".\\\n",
    "        format(fit_params[0], perr[0], fit_params[1], perr[1]))\n",
    "ax.legend(bbox_to_anchor=(1.8, 0.6))\n",
    "fig.suptitle(\"Power Function Fit of Summed Subsequence Counts\")\n",
    "ax.set_xlabel(\"Length of Subsequence (max 25)\")\n",
    "ax.set_ylabel(\"Number of Matches\")\n",
    "# ax.set_ylim(top=650000)\n",
    "ax.ticklabel_format(axis='y', style='sci', scilimits=(0,0))\n",
    "ax.set_xticks(np.arange(min(x_fit), max(x_fit)+1, 5.0))\n",
    "# plt.savefig(count_file_path+\"yourname_sum_fit.png\", bbox_inches='tight')"
   ]
  },
  {
   "cell_type": "markdown",
   "metadata": {},
   "source": [
    "### Plotting non-binned sequence count estimate (S)  bar plots"
   ]
  },
  {
   "cell_type": "code",
   "execution_count": null,
   "metadata": {},
   "outputs": [],
   "source": [
    "sample_labels = [\"target\", \"complement\", \"total S\"]\n",
    "sample = [target_S, comp_S, total_S]\n",
    "sample_summed = [target_Ss, comp_Ss, total Ss]\n",
    "# Error values\n",
    "sample_errs = [target_S_err, comp_S_err, total_S_err]\n",
    "sample_summed_errs = [target_Ss_err, comp_Ss_err, total Ss_err]"
   ]
  },
  {
   "cell_type": "code",
   "execution_count": null,
   "metadata": {},
   "outputs": [],
   "source": [
    "plt.rcParams.update({'font.size': 16})\n",
    "colors = plt.cm.Blues(np.linspace(0,1,4))\n",
    "\n",
    "x_pos = np.arange(len(labels))  # the label locations\n",
    "width = 0.35  # the width of the bars\n",
    "\n",
    "fig, ax = plt.subplots(figsize=(10,7))\n",
    "rects1 = ax.bar(x_pos - width/2, sample, width, yerr= sample_errs, label='Not Summed', \\\n",
    "               capsize=10.0, color=colors[1])\n",
    "rects2 = ax.bar(x_pos + width/2, sample_summed, width, yerr=sample_summed_errs,  label='Summed', \\\n",
    "               capsize=10.0, color=colors[2])\n",
    "\n",
    "# Add some text for labels, title and custom x-axis tick labels, etc.\n",
    "ax.set_ylabel('Estimated Strands')\n",
    "ax.set_title('Estimated Strands of Target and Complement')\n",
    "ax.set_xticks(x_pos)\n",
    "ax.set_xticklabels(labels)\n",
    "ax.ticklabel_format(axis='y', style='sci', scilimits=(0,0))\n",
    "\n",
    "ax.bar_label(rects1, padding=1)\n",
    "ax.bar_label(rects2, padding=3)\n",
    "ax.legend(loc='upper left')\n",
    "\n",
    "fig.tight_layout()\n",
    "# plt.savefig(save_folder+\"/yourname_counts_barplot.png\")"
   ]
  },
  {
   "cell_type": "markdown",
   "metadata": {},
   "source": [
    "### Plotting time binned power func fits"
   ]
  },
  {
   "cell_type": "code",
   "execution_count": null,
   "metadata": {},
   "outputs": [],
   "source": [
    "plt.rcParams.update({'font.size': 12})\n",
    "plot_time_binned_fits(target, comp, tstep_arr, x_array, time_summed_counts_arr, params_arr, \\\n",
    "    fit_list, perr_arr, time_step, fit_save_folder, is_sum=False, y_lims=(0,0), is_save=True)\n",
    "# target is the name of the target, eg \"Target 0\"\n",
    "# comp is a bool of whether or not the fit is for a target or a complement."
   ]
  },
  {
   "cell_type": "markdown",
   "metadata": {},
   "source": [
    "### Plotting time binned summed power func fits"
   ]
  },
  {
   "cell_type": "code",
   "execution_count": null,
   "metadata": {},
   "outputs": [],
   "source": [
    "plt.rcParams.update({'font.size': 12})\n",
    "plot_time_binned_fits(target, comp, tstep_arr, x_fit, time_summed_counts_arr, params_arr, \\\n",
    "    fit_list, perr_arr, time_step, fit_save_folder, is_sum=True, y_lims=(0,0), is_save=True)\n",
    "# target is the name of the target, eg \"Target 0\"\n",
    "# comp is a bool of whether or not the fit is for a target or a complement."
   ]
  },
  {
   "cell_type": "markdown",
   "metadata": {},
   "source": [
    "### Plotting time binned ratios"
   ]
  },
  {
   "cell_type": "code",
   "execution_count": null,
   "metadata": {},
   "outputs": [],
   "source": [
    "# Make an array of times\n",
    "plot_time_arr = tstep_arr + 30\n",
    "# Custom colors\n",
    "colors = plt.cm.Blues(np.linspace(0,1,10))\n",
    "# Set font size for plots\n",
    "plt.rcParams.update({'font.size': 16})\n",
    "\n",
    "# Plot\n",
    "fig, ax = plt.subplots(1,2,figsize=(15,5))\n",
    "ax[0].errorbar(plot_time_arr, ratio_arr, yerr=ratio_err_arr, capsize=3, color=colors[3])\n",
    "ax[0].plot(plot_time_arr, np.ones(len(plot_time_arr)), color=\"lightgray\", linestyle=\"dashed\" ,label='expected')\n",
    "# ax[0].set_ylim((0.95,1.05))\n",
    "xtick = 180\n",
    "ax[0].set_xticks(np.arange(0,1440+xtick,xtick))\n",
    "ax[0].set_title(\"Not Summed\")\n",
    "ax[0].set_ylabel(\"Estimated Ratio\")\n",
    "\n",
    "ax[1].errorbar(plot_time_arr, ratio_arr_s, yerr=ratio_err_arr_s, capsize=3, color=colors[3])\n",
    "ax[1].plot(plot_time_arr, np.ones(len(plot_time_arr)), color=\"lightgray\", linestyle=\"dashed\" ,label='expected')\n",
    "# ax[1].set_ylim((0.95,1.05))\n",
    "ax[1].set_xticks(np.arange(0,1440+xtick,xtick))\n",
    "ax[1].set_title(\"Summed\")\n",
    "plt.legend(loc=\"best\")\n",
    "\n",
    "fig.suptitle(\"Estimated Barcode Ratio Over Time\",y=0.99)\n",
    "# add a big axis, hide frame\n",
    "fig.add_subplot(111, frameon=False)\n",
    "# hide tick and tick label of the big axis\n",
    "plt.tick_params(labelcolor='none', top=False, bottom=False, left=False, right=False)\n",
    "plt.xlabel(\"Time (minutes)\")\n",
    "# save plot\n",
    "# plt.savefig(count_folder+\"/name_here_estimated_ratio_plot.png\", bbox_inches=\"tight\")"
   ]
  },
  {
   "cell_type": "markdown",
   "metadata": {},
   "source": [
    "### Plotting ratio bar plots"
   ]
  },
  {
   "cell_type": "code",
   "execution_count": null,
   "metadata": {},
   "outputs": [],
   "source": [
    "sample_labels = [\"ratio 0\", \"ratio 0\\n(summed)\", \"ratio 1\", \"ratio 1\\n(summed)\"]\n",
    "sample = [ratio0, ratio0s, ratio1, ratio1s]\n",
    "sample_errs = [ratio0_err, ratio0s_err, ratio1_err, ratio1s_err]"
   ]
  },
  {
   "cell_type": "code",
   "execution_count": null,
   "metadata": {},
   "outputs": [],
   "source": [
    "x = np.arange(len(sample_labels))  # the label locations\n",
    "width = 0.35  # the width of the bars\n",
    "plt.rcParams.update({'font.size': 24})\n",
    "# Custom colors\n",
    "colors = plt.cm.Blues(np.linspace(0,1,10))\n",
    "\n",
    "fig, ax = plt.subplots(figsize=(10,7))\n",
    "rects1 = ax.bar(x - width/2, sample_0, width, yerr= sample_0_errs, label='Sample 0', \\\n",
    "               capsize=5.0, color=colors[1])\n",
    "# rects2 = ax.bar(x + width/2, sample_1, width, yerr= sample_1_errs,  label='Sample 1', \\\n",
    "#                capsize=5.0, color=colors[2])\n",
    "\n",
    "# Add some text for labels, title and custom x-axis tick labels, etc.\n",
    "ax.set_ylabel('Barcode Ratios')\n",
    "ax.set_title('Barcode Ratios by \\nCalculation Method')\n",
    "ax.set_xticks(x)\n",
    "ax.set_xticklabels(sample_labels)\n",
    "ax.set_ylim(top=3.5)\n",
    "xlims = ax.get_xlim()\n",
    "xdiff=xlims[1]-xlims[0]\n",
    "ax.set_xlim(xlims)\n",
    "# Plot lines for expected ratios\n",
    "ax.plot([xlims[0],xlims[0]+xdiff/2],[2.0,2.0], linestyle=\"dashed\",color=\"darkgrey\", label=\"Expected\")\n",
    "ax.plot([xlims[0]+xdiff/2,xlims[1]],[0.5,0.5], linestyle=\"dashed\",color=\"darkgrey\",)\n",
    "\n",
    "ax.bar_label(rects1, padding=1)\n",
    "ax.bar_label(rects2, padding=3)\n",
    "ax.legend()\n",
    "\n",
    "fig.tight_layout()\n",
    "\n",
    "# plt.savefig(save_folder+\"/ratios_barplot.png\")"
   ]
  }
 ],
 "metadata": {
  "kernelspec": {
   "display_name": "Python 3.7",
   "language": "python",
   "name": "python3.7"
  },
  "language_info": {
   "codemirror_mode": {
    "name": "ipython",
    "version": 3
   },
   "file_extension": ".py",
   "mimetype": "text/x-python",
   "name": "python",
   "nbconvert_exporter": "python",
   "pygments_lexer": "ipython3",
   "version": "3.7.9"
  }
 },
 "nbformat": 4,
 "nbformat_minor": 4
}
